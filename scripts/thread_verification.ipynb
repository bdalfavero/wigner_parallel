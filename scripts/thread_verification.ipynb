{
 "cells": [
  {
   "cell_type": "code",
   "execution_count": 11,
   "id": "3a466a3d-6cca-4eb0-a2c6-5ae6b1158916",
   "metadata": {},
   "outputs": [],
   "source": [
    "import os\n",
    "import numpy as np\n",
    "import scipy.linalg as la\n",
    "import pandas as pd\n",
    "import matplotlib.pyplot as plt\n",
    "from scipy.stats import linregress\n",
    "import h5py"
   ]
  },
  {
   "cell_type": "code",
   "execution_count": 12,
   "id": "4c318e7e-47b1-4f47-8af8-b63dbfc1831b",
   "metadata": {},
   "outputs": [
    {
     "data": {
      "text/plain": [
       "['thread_scaling_8.h5',\n",
       " 'thread_scaling_2.h5',\n",
       " 'thread_scaling_16.h5',\n",
       " 'thread_scaling_4.h5',\n",
       " 'thread_scaling_1.h5']"
      ]
     },
     "execution_count": 12,
     "metadata": {},
     "output_type": "execute_result"
    }
   ],
   "source": [
    "dir = \"../data\"\n",
    "data_files = os.listdir(dir)\n",
    "data_files = [s for s in data_files if \"thread_scaling_\" in s and \"h5\" in s]\n",
    "data_files"
   ]
  },
  {
   "cell_type": "code",
   "execution_count": 13,
   "id": "5416c0b4-401c-4770-8faf-c7056fdd55db",
   "metadata": {},
   "outputs": [],
   "source": [
    "h5_files = [h5py.File(dir + '/' + f) for f in data_files]\n",
    "solns = [f[\"population\"] for f in h5_files]"
   ]
  },
  {
   "cell_type": "code",
   "execution_count": 14,
   "id": "1aef3d04-599e-4b84-8f0e-fff0ad7da3fe",
   "metadata": {},
   "outputs": [],
   "source": [
    "distances = np.zeros((len(solns), len(solns)), dtype=\"float\")\n",
    "for i in range(distances.shape[0]):\n",
    "    for j in range(distances.shape[1]):\n",
    "        sol1_vec = solns[i][()].reshape((solns[i].size, 1))\n",
    "        sol2_vec = solns[j][()].reshape((solns[j].size, 1))\n",
    "        distances[i, j] = la.norm(sol1_vec - sol2_vec) / solns[i].size"
   ]
  },
  {
   "cell_type": "code",
   "execution_count": 15,
   "id": "a0ee9ffb-4014-4e2d-beda-b225a38da405",
   "metadata": {},
   "outputs": [
    {
     "data": {
      "text/plain": [
       "<matplotlib.colorbar.Colorbar at 0x11ba68090>"
      ]
     },
     "execution_count": 15,
     "metadata": {},
     "output_type": "execute_result"
    },
    {
     "data": {
      "image/png": "[encoded data removed]",
      "text/plain": [
       "<Figure size 640x480 with 2 Axes>"
      ]
     },
     "metadata": {},
     "output_type": "display_data"
    }
   ],
   "source": [
    "fig, ax = plt.subplots()\n",
    "mappable = ax.imshow(distances)\n",
    "plt.colorbar(mappable)"
   ]
  },
  {
   "cell_type": "code",
   "execution_count": null,
   "id": "bcd80531-e246-4fe9-9e4e-ca21416dc62a",
   "metadata": {},
   "outputs": [],
   "source": []
  }
 ],
 "metadata": {
  "kernelspec": {
   "display_name": "Python 3 (ipykernel)",
   "language": "python",
   "name": "python3"
  },
  "language_info": {
   "codemirror_mode": {
    "name": "ipython",
    "version": 3
   },
   "file_extension": ".py",
   "mimetype": "text/x-python",
   "name": "python",
   "nbconvert_exporter": "python",
   "pygments_lexer": "ipython3",
   "version": "3.11.7"
  }
 },
 "nbformat": 4,
 "nbformat_minor": 5
}
