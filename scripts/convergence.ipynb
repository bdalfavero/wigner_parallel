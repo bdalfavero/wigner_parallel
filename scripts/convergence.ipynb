{
 "cells": [
  {
   "cell_type": "code",
   "execution_count": 164,
   "id": "3b7b9545-4df8-4a78-8fb1-9618f671df59",
   "metadata": {},
   "outputs": [],
   "source": [
    "import os\n",
    "import numpy as np\n",
    "import pandas as pd\n",
    "import matplotlib.pyplot as plt\n",
    "from scipy.stats import linregress\n",
    "import scipy.linalg as la\n",
    "import h5py"
   ]
  },
  {
   "cell_type": "code",
   "execution_count": 165,
   "id": "4c4a4c02-cadc-4acd-9989-086ed0fdd6a5",
   "metadata": {},
   "outputs": [],
   "source": [
    "dir = \"../data\"\n",
    "data_files = os.listdir(dir)\n",
    "convergence_data_files = [s for s in data_files if \"convergence_\" in s and \"h5\" in s]\n",
    "convergence_h5_files = [h5py.File(dir + '/' + fn) for fn in convergence_data_files]"
   ]
  },
  {
   "cell_type": "code",
   "execution_count": 166,
   "id": "f98db5fd-2f32-49fe-9eb2-9eb2067d93c5",
   "metadata": {},
   "outputs": [
    {
     "data": {
      "text/plain": [
       "['averaging_times',\n",
       " 'bose_model',\n",
       " 'init_population',\n",
       " 'num_points',\n",
       " 'num_samples',\n",
       " 'population',\n",
       " 'step_times',\n",
       " 'time_steps',\n",
       " 'total_walltime',\n",
       " 'use_simd',\n",
       " 'walltimes']"
      ]
     },
     "execution_count": 166,
     "metadata": {},
     "output_type": "execute_result"
    }
   ],
   "source": [
    "list(convergence_h5_files[0].keys())"
   ]
  },
  {
   "cell_type": "code",
   "execution_count": 167,
   "id": "aba45bdc-5961-4318-ad0e-73f7047d0961",
   "metadata": {},
   "outputs": [],
   "source": [
    "populations = [h5f[\"population\"] for h5f in convergence_h5_files]"
   ]
  },
  {
   "cell_type": "code",
   "execution_count": 168,
   "id": "649297b0-c4b2-4970-b7f5-145be895f8d7",
   "metadata": {},
   "outputs": [
    {
     "data": {
      "text/plain": [
       "array([ 5950, 90100, 60400, 30700, 65350, 45550, 95050, 80200, 35650,\n",
       "       20800, 15850, 50500, 75250,  1000, 85150, 25750, 10900, 40600,\n",
       "       55450, 70300], dtype=int32)"
      ]
     },
     "execution_count": 168,
     "metadata": {},
     "output_type": "execute_result"
    }
   ],
   "source": [
    "num_samples = np.array([h5f[\"num_samples\"][0] for h5f in convergence_h5_files])\n",
    "max_idx = np.argmax(num_samples)\n",
    "min_idx = np.argmax(num_samples)\n",
    "\n",
    "num_samples"
   ]
  },
  {
   "cell_type": "code",
   "execution_count": 169,
   "id": "86a400ad-0cc6-4682-bdd6-a7e5a63d3303",
   "metadata": {},
   "outputs": [
    {
     "data": {
      "text/plain": [
       "array([1.25172054e-04, 4.33313363e-05, 5.78626098e-05, 6.65297441e-05,\n",
       "       4.56050411e-05, 5.84459911e-05, 0.00000000e+00, 3.87665276e-05,\n",
       "       5.88997256e-05, 8.03188646e-05, 7.04913335e-05, 5.56997434e-05,\n",
       "       4.50269256e-05, 2.87476652e-04, 4.31498182e-05, 6.09196638e-05,\n",
       "       9.11928616e-05, 5.36902013e-05, 5.16968426e-05, 4.13478042e-05])"
      ]
     },
     "execution_count": 169,
     "metadata": {},
     "output_type": "execute_result"
    }
   ],
   "source": [
    "errors = np.array([la.norm(pop[()] - populations[max_idx][()]) / pop.size for pop in populations])\n",
    "errors"
   ]
  },
  {
   "cell_type": "code",
   "execution_count": 170,
   "id": "4ff603d8-98d9-407e-bab8-9735e9c7337e",
   "metadata": {},
   "outputs": [
    {
     "name": "stdout",
     "output_type": "stream",
     "text": [
      "[3.77451697 4.95472479 4.78103694 4.48713838 4.81524559 4.65848838\n",
      " 4.97795212 4.90417437 4.55205953 4.31806333 4.20002927 4.70329138\n",
      " 4.8765065  3.         4.93018465 4.41077723 4.0374265  4.60852603\n",
      " 4.74390155 4.84695533]\n",
      "[-3.87886036 -4.29816154 -4.18800558 -4.13353695 -4.27897264 -4.18411695\n",
      " -5.15490196 -4.33945204 -4.18111639 -4.05889192 -4.11074687 -4.20273424\n",
      " -4.28377184 -3.53094913 -4.29973064 -4.16800447 -4.00792008 -4.21688142\n",
      " -4.23138526 -4.31562325]\n",
      "-0.46535072957431683\n",
      "-2.0955914809650444\n"
     ]
    }
   ],
   "source": [
    "boost = 7e-6\n",
    "print(np.log10(num_samples))\n",
    "print(np.log10(errors + boost))\n",
    "linreg_result = linregress(np.log10(num_samples), np.log10(errors + boost))\n",
    "print(linreg_result.slope)\n",
    "print(linreg_result.intercept)\n",
    "fit_x = np.linspace(np.min(num_samples), np.max(num_samples), num=50)\n",
    "fit_y = 10.0 ** (linreg_result.intercept + np.log10(fit_x) * linreg_result.slope)"
   ]
  },
  {
   "cell_type": "code",
   "execution_count": 172,
   "id": "c1a1c92b-4800-46ca-a3ab-193736926ae2",
   "metadata": {},
   "outputs": [
    {
     "data": {
      "image/png": "[encoded data removed]",
      "text/plain": [
       "<Figure size 640x480 with 1 Axes>"
      ]
     },
     "metadata": {},
     "output_type": "display_data"
    }
   ],
   "source": [
    "fig, ax = plt.subplots()\n",
    "ax.set_yscale('log', base=10)\n",
    "ax.set_xscale('log', base=10)\n",
    "ax.plot(num_samples, errors, '.', label=\"Measured error\")\n",
    "ax.plot(fit_x, fit_y, '-', label=\"Fit error,\\nSlope = {}\".format(linreg_result.slope))\n",
    "plt.legend()\n",
    "plt.savefig(\"../plots/convergence.png\")"
   ]
  },
  {
   "cell_type": "code",
   "execution_count": null,
   "id": "cd907e31-668f-4f58-9122-627b4d0242bd",
   "metadata": {},
   "outputs": [],
   "source": []
  }
 ],
 "metadata": {
  "kernelspec": {
   "display_name": "Python 3 (ipykernel)",
   "language": "python",
   "name": "python3"
  },
  "language_info": {
   "codemirror_mode": {
    "name": "ipython",
    "version": 3
   },
   "file_extension": ".py",
   "mimetype": "text/x-python",
   "name": "python",
   "nbconvert_exporter": "python",
   "pygments_lexer": "ipython3",
   "version": "3.11.7"
  }
 },
 "nbformat": 4,
 "nbformat_minor": 5
}
