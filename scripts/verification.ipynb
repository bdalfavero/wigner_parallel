{
 "cells": [
  {
   "cell_type": "code",
   "execution_count": 13,
   "id": "896bd836-35bf-482b-9b3f-03e3abf0e0ed",
   "metadata": {},
   "outputs": [],
   "source": [
    "import os\n",
    "import numpy as np\n",
    "import scipy.linalg as la\n",
    "import pandas as pd\n",
    "import matplotlib.pyplot as plt\n",
    "from scipy.stats import linregress"
   ]
  },
  {
   "cell_type": "code",
   "execution_count": 2,
   "id": "680e63e5-863f-423a-8ee7-02de50e920f2",
   "metadata": {},
   "outputs": [],
   "source": [
    "dir = \"../data\"\n",
    "data_files = os.listdir(dir)\n",
    "data_files = [s for s in data_files if \"output\" in s]"
   ]
  },
  {
   "cell_type": "code",
   "execution_count": 4,
   "id": "9ebf3e36-00a9-4880-ac24-f36b37a067a3",
   "metadata": {},
   "outputs": [],
   "source": [
    "dframes = [pd.read_csv(dir + '/' +  file) for file in data_files]\n",
    "#print(dframes[0].head())"
   ]
  },
  {
   "cell_type": "code",
   "execution_count": 10,
   "id": "af1454d5-88a5-40e6-b2b4-295ceb06196d",
   "metadata": {},
   "outputs": [],
   "source": [
    "solns = [df.loc[:, df.columns != \"walltime\"] for df in dframes]\n",
    "solns = [df.loc[:, df.columns != \"t\"] for df in solns]"
   ]
  },
  {
   "cell_type": "code",
   "execution_count": 27,
   "id": "1eead585-199b-402c-9580-eb603bc69546",
   "metadata": {},
   "outputs": [],
   "source": [
    "distances = np.zeros((len(solns), len(solns)), dtype=\"float\")\n",
    "for i in range(distances.shape[0]):\n",
    "    for j in range(distances.shape[1]):\n",
    "        sol1_vec = solns[i].values.reshape((solns[i].size, 1))\n",
    "        sol2_vec = solns[j].values.reshape((solns[j].size, 1))\n",
    "        distances[i, j] = la.norm(sol1_vec - sol2_vec) / solns[i].size"
   ]
  },
  {
   "cell_type": "code",
   "execution_count": 28,
   "id": "9d4909a8-917f-4422-a6b7-99a6a99ba34c",
   "metadata": {},
   "outputs": [
    {
     "data": {
      "text/plain": [
       "<matplotlib.colorbar.Colorbar at 0x123ffcd90>"
      ]
     },
     "execution_count": 28,
     "metadata": {},
     "output_type": "execute_result"
    },
    {
     "data": {
      "image/png": "[encoded data removed]",
      "text/plain": [
       "<Figure size 640x480 with 2 Axes>"
      ]
     },
     "metadata": {},
     "output_type": "display_data"
    }
   ],
   "source": [
    "fig, ax = plt.subplots()\n",
    "mappable = ax.imshow(distances)\n",
    "plt.colorbar(mappable)"
   ]
  },
  {
   "cell_type": "code",
   "execution_count": null,
   "id": "4a2b5545-5baa-435f-a612-28b5e9f89c8b",
   "metadata": {},
   "outputs": [],
   "source": []
  }
 ],
 "metadata": {
  "kernelspec": {
   "display_name": "Python 3 (ipykernel)",
   "language": "python",
   "name": "python3"
  },
  "language_info": {
   "codemirror_mode": {
    "name": "ipython",
    "version": 3
   },
   "file_extension": ".py",
   "mimetype": "text/x-python",
   "name": "python",
   "nbconvert_exporter": "python",
   "pygments_lexer": "ipython3",
   "version": "3.11.7"
  }
 },
 "nbformat": 4,
 "nbformat_minor": 5
}
