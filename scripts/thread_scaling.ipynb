{
 "cells": [
  {
   "cell_type": "code",
   "execution_count": 7,
   "id": "6b22baab-bf8b-4a70-af03-b8c4f52fbadb",
   "metadata": {},
   "outputs": [],
   "source": [
    "import os\n",
    "import numpy as np\n",
    "import pandas as pd\n",
    "import matplotlib.pyplot as plt\n",
    "import h5py"
   ]
  },
  {
   "cell_type": "code",
   "execution_count": 9,
   "id": "f97131aa-5a51-4700-ae86-f422203c1374",
   "metadata": {},
   "outputs": [],
   "source": [
    "dir = \"../data\"\n",
    "data_files = os.listdir(dir)\n",
    "thread_files = [s for s in data_files if \"thread_scaling\" in s and \"h5\" in s]\n",
    "thread_files\n",
    "h5_files = [h5py.File(dir + '/' + f) for f in thread_files]"
   ]
  },
  {
   "cell_type": "code",
   "execution_count": 10,
   "id": "6a7b5189-2ab2-43bf-99a5-2f350d237dab",
   "metadata": {},
   "outputs": [],
   "source": [
    "def avg_time(wt):\n",
    "    avg_time = np.mean(wt)\n",
    "    std_time = np.std(wt)\n",
    "    return (avg_time, std_time)"
   ]
  },
  {
   "cell_type": "code",
   "execution_count": 13,
   "id": "68a49c7e-4351-4f9c-b382-7e5ab96de45d",
   "metadata": {},
   "outputs": [],
   "source": [
    "time_stats = [avg_time(hf[\"walltimes\"][()]) for hf in h5_files]\n",
    "avg_times = np.array([tup[0] for tup in time_stats])\n",
    "std_times = np.array([tup[1] for tup in time_stats])"
   ]
  },
  {
   "cell_type": "code",
   "execution_count": 15,
   "id": "fb3cc6f2-90f5-4266-8b62-130bcf0c55e8",
   "metadata": {},
   "outputs": [
    {
     "data": {
      "text/plain": [
       "array([ 8,  2, 16,  4,  1])"
      ]
     },
     "execution_count": 15,
     "metadata": {},
     "output_type": "execute_result"
    }
   ],
   "source": [
    "# Get all digits from filenames\n",
    "def get_all_digits(strn):\n",
    "    digit_str = []\n",
    "    for ch in strn:\n",
    "        if ch.isdigit():\n",
    "            digit_str.append(ch)\n",
    "    return ''.join(digit_str)\n",
    "\n",
    "num_threads = np.array([int(strn.replace('thread_scaling_', '').replace('.h5', '')) for strn in thread_files])\n",
    "num_threads"
   ]
  },
  {
   "cell_type": "code",
   "execution_count": 17,
   "id": "c3263442-6c07-407b-a6a1-f23e28bf5c60",
   "metadata": {},
   "outputs": [
    {
     "data": {
      "text/plain": [
       "Text(0, 0.5, 'Average wallclock time per step')"
      ]
     },
     "execution_count": 17,
     "metadata": {},
     "output_type": "execute_result"
    },
    {
     "data": {
      "image/png": "[encoded data removed]",
      "text/plain": [
       "<Figure size 640x480 with 1 Axes>"
      ]
     },
     "metadata": {},
     "output_type": "display_data"
    }
   ],
   "source": [
    "fig, ax = plt.subplots()\n",
    "ax.set_xscale('log', base=2)\n",
    "#ax.set_yscale('log', base=10)\n",
    "ax.errorbar(num_threads, avg_times, yerr=std_times, \\\n",
    "            linestyle='', marker='.', label=\"Measured\")\n",
    "ax.set_xlabel(\"Number of threads\")\n",
    "ax.set_ylabel(\"Average wallclock time per step\")"
   ]
  },
  {
   "cell_type": "code",
   "execution_count": null,
   "id": "0e420d04-b0ca-4b8e-bbb8-95aaec2e1644",
   "metadata": {},
   "outputs": [],
   "source": []
  }
 ],
 "metadata": {
  "kernelspec": {
   "display_name": "Python 3 (ipykernel)",
   "language": "python",
   "name": "python3"
  },
  "language_info": {
   "codemirror_mode": {
    "name": "ipython",
    "version": 3
   },
   "file_extension": ".py",
   "mimetype": "text/x-python",
   "name": "python",
   "nbconvert_exporter": "python",
   "pygments_lexer": "ipython3",
   "version": "3.11.7"
  }
 },
 "nbformat": 4,
 "nbformat_minor": 5
}
