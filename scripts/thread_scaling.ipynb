{
 "cells": [
  {
   "cell_type": "code",
   "execution_count": 1,
   "id": "6b22baab-bf8b-4a70-af03-b8c4f52fbadb",
   "metadata": {},
   "outputs": [],
   "source": [
    "import os\n",
    "import numpy as np\n",
    "import pandas as pd\n",
    "import matplotlib.pyplot as plt\n",
    "import h5py"
   ]
  },
  {
   "cell_type": "code",
   "execution_count": 2,
   "id": "6a7b5189-2ab2-43bf-99a5-2f350d237dab",
   "metadata": {},
   "outputs": [],
   "source": [
    "def avg_time(wt):\n",
    "    avg_time = np.mean(wt)\n",
    "    std_time = np.std(wt)\n",
    "    return (avg_time, std_time)"
   ]
  },
  {
   "cell_type": "code",
   "execution_count": 3,
   "id": "fb3cc6f2-90f5-4266-8b62-130bcf0c55e8",
   "metadata": {},
   "outputs": [],
   "source": [
    "# Get all digits from filenames\n",
    "def get_all_digits(strn):\n",
    "    digit_str = []\n",
    "    for ch in strn:\n",
    "        if ch.isdigit():\n",
    "            digit_str.append(ch)\n",
    "    return ''.join(digit_str)"
   ]
  },
  {
   "cell_type": "code",
   "execution_count": 4,
   "id": "8df88d80-0438-464b-9e19-82a813ef53d9",
   "metadata": {},
   "outputs": [],
   "source": [
    "def analyze_case(filenames):\n",
    "    h5_files = [h5py.File(fn) for fn in filenames]\n",
    "    all_walltimes = [hf[\"walltimes\"][()] for hf in h5_files]\n",
    "    average_times = []\n",
    "    std_times = []\n",
    "    for wt in all_walltimes:\n",
    "        time_avg, time_std = avg_time(wt)\n",
    "        average_times.append(time_avg)\n",
    "        std_times.append(time_std)\n",
    "    results = {}\n",
    "    results[\"average_times\"] = np.array(average_times)\n",
    "    results[\"std_times\"] = np.array(std_times)\n",
    "    return results"
   ]
  },
  {
   "cell_type": "code",
   "execution_count": 23,
   "id": "f97131aa-5a51-4700-ae86-f422203c1374",
   "metadata": {},
   "outputs": [
    {
     "name": "stdout",
     "output_type": "stream",
     "text": [
      "['../data/thread_scaling_8.h5', '../data/thread_scaling_2.h5', '../data/thread_scaling_16.h5', '../data/thread_scaling_4.h5', '../data/thread_scaling_1.h5']\n",
      "['../data/thread_scaling2_2.h5', '../data/thread_scaling2_16.h5', '../data/thread_scaling2_8.h5', '../data/thread_scaling2_1.h5', '../data/thread_scaling2_4.h5']\n",
      "['../data/thread_scaling_case_two_1.h5', '../data/thread_scaling_case_two_4.h5', '../data/thread_scaling_case_two_2.h5', '../data/thread_scaling_case_two_8.h5', '../data/thread_scaling_case_two_16.h5']\n",
      "['../data/thread_scaling_case_two_simd_4.h5', '../data/thread_scaling_case_two_simd_16.h5', '../data/thread_scaling_case_two_simd_1.h5', '../data/thread_scaling_case_two_simd_8.h5', '../data/thread_scaling_case_two_simd_2.h5']\n"
     ]
    }
   ],
   "source": [
    "dir = \"../data\"\n",
    "data_files = os.listdir(dir)\n",
    "\n",
    "thread_files = [s for s in data_files if \"thread_scaling_\" in s and \"h5\" in s and \"case_two\" not in s]\n",
    "h5_filenames = [dir + '/' + f for f in thread_files]\n",
    "print(h5_filenames)\n",
    "\n",
    "simd_thread_files = [s for s in data_files if \"thread_scaling2\" in s and \"h5\" in s]\n",
    "simd_h5_filenames = [dir + '/' + f for f in simd_thread_files]\n",
    "print(simd_h5_filenames)\n",
    "\n",
    "case_two_thread_files = [s for s in data_files if \"thread_scaling_\" in s and \"h5\" in s and \"case_two\" in s and \"simd\" not in s]\n",
    "case_two_h5_filenames = [dir + '/' + f for f in case_two_thread_files]\n",
    "print(case_two_h5_filenames)\n",
    "\n",
    "case_two_simd_files = [s for s in data_files if \"thread_scaling_\" in s and \"h5\" in s and \"simd\" in s]\n",
    "case_two_simd_h5_filenames = [dir + '/' + f for f in case_two_simd_files]\n",
    "print(case_two_simd_h5_filenames)"
   ]
  },
  {
   "cell_type": "code",
   "execution_count": 24,
   "id": "2d22dcf0-935a-4481-932e-94291b6be9a6",
   "metadata": {},
   "outputs": [],
   "source": [
    "results = analyze_case(h5_filenames)\n",
    "simd_results = analyze_case(simd_h5_filenames)\n",
    "case_two_results = analyze_case(case_two_h5_filenames)\n",
    "case_two_simd_results = analyze_case(case_two_simd_h5_filenames)"
   ]
  },
  {
   "cell_type": "code",
   "execution_count": 29,
   "id": "c3263442-6c07-407b-a6a1-f23e28bf5c60",
   "metadata": {},
   "outputs": [
    {
     "name": "stderr",
     "output_type": "stream",
     "text": [
      "No artists with labels found to put in legend.  Note that artists whose label start with an underscore are ignored when legend() is called with no argument.\n"
     ]
    },
    {
     "data": {
      "text/plain": [
       "<matplotlib.legend.Legend at 0x11c4c2990>"
      ]
     },
     "execution_count": 29,
     "metadata": {},
     "output_type": "execute_result"
    },
    {
     "data": {
      "image/png": "[encoded data removed]",
      "text/plain": [
       "<Figure size 640x480 with 2 Axes>"
      ]
     },
     "metadata": {},
     "output_type": "display_data"
    }
   ],
   "source": [
    "fig, ax = plt.subplots(2, 1)\n",
    "ax[0].set_xscale('log', base=2)\n",
    "ax[1].set_xscale('log', base=2)\n",
    "#ax.set_yscale('log', base=10)\n",
    "\n",
    "ax[0].errorbar(np.array(range(len(h5_filenames))), results[\"average_times\"], yerr=results[\"std_times\"], \\\n",
    "            linestyle='', marker='.', label=\"No SIMD\")\n",
    "ax[0].set_xlabel(\"Number of threads\")\n",
    "\n",
    "ax[0].errorbar(np.array(range(len(simd_h5_filenames))), simd_results[\"average_times\"], yerr=simd_results[\"std_times\"], \\\n",
    "            linestyle='', marker='.', label=\"SIMD\")\n",
    "plt.legend()\n",
    "\n",
    "ax[1].errorbar(np.array(range(len(h5_filenames))), case_two_results[\"average_times\"], yerr=case_two_results[\"std_times\"], \\\n",
    "            linestyle='', marker='.', label=\"No SIMD\")\n",
    "ax[1].set_xlabel(\"Number of threads\")\n",
    "\n",
    "ax[1].errorbar(np.array(range(len(simd_h5_filenames))), case_two_simd_results[\"average_times\"], yerr=case_two_simd_results[\"std_times\"], \\\n",
    "            linestyle='', marker='.', label=\"SIMD\")\n",
    "\n",
    "ax[0].set_xlabel(\"Number of threads\")\n",
    "ax[0].set_ylabel(\"Average wallclock time per step\")\n",
    "ax[1].set_ylabel(\"Average wallclock time per step\")\n",
    "plt.legend()"
   ]
  },
  {
   "cell_type": "code",
   "execution_count": null,
   "id": "0e420d04-b0ca-4b8e-bbb8-95aaec2e1644",
   "metadata": {},
   "outputs": [],
   "source": []
  }
 ],
 "metadata": {
  "kernelspec": {
   "display_name": "Python 3 (ipykernel)",
   "language": "python",
   "name": "python3"
  },
  "language_info": {
   "codemirror_mode": {
    "name": "ipython",
    "version": 3
   },
   "file_extension": ".py",
   "mimetype": "text/x-python",
   "name": "python",
   "nbconvert_exporter": "python",
   "pygments_lexer": "ipython3",
   "version": "3.11.7"
  }
 },
 "nbformat": 4,
 "nbformat_minor": 5
}
