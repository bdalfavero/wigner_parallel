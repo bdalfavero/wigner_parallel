{
 "cells": [
  {
   "cell_type": "code",
   "execution_count": 24,
   "id": "6b22baab-bf8b-4a70-af03-b8c4f52fbadb",
   "metadata": {},
   "outputs": [],
   "source": [
    "import os\n",
    "import numpy as np\n",
    "import pandas as pd\n",
    "import matplotlib.pyplot as plt\n",
    "import h5py"
   ]
  },
  {
   "cell_type": "code",
   "execution_count": 25,
   "id": "6a7b5189-2ab2-43bf-99a5-2f350d237dab",
   "metadata": {},
   "outputs": [],
   "source": [
    "def avg_time(wt):\n",
    "    avg_time = np.mean(wt)\n",
    "    std_time = np.std(wt)\n",
    "    return (avg_time, std_time)"
   ]
  },
  {
   "cell_type": "code",
   "execution_count": 26,
   "id": "fb3cc6f2-90f5-4266-8b62-130bcf0c55e8",
   "metadata": {},
   "outputs": [],
   "source": [
    "# Get all digits from filenames\n",
    "def get_all_digits(strn):\n",
    "    digit_str = []\n",
    "    for ch in strn:\n",
    "        if ch.isdigit():\n",
    "            digit_str.append(ch)\n",
    "    return ''.join(digit_str)"
   ]
  },
  {
   "cell_type": "code",
   "execution_count": 27,
   "id": "8df88d80-0438-464b-9e19-82a813ef53d9",
   "metadata": {},
   "outputs": [],
   "source": [
    "def analyze_case(filenames):\n",
    "    h5_files = [h5py.File(fn) for fn in filenames]\n",
    "    all_walltimes = [hf[\"walltimes\"][()] for hf in h5_files]\n",
    "    average_times = []\n",
    "    std_times = []\n",
    "    for wt in all_walltimes:\n",
    "        time_avg, time_std = avg_time(wt)\n",
    "        average_times.append(time_avg)\n",
    "        std_times.append(time_std)\n",
    "    results = {}\n",
    "    results[\"average_times\"] = np.array(average_times)\n",
    "    results[\"std_times\"] = np.array(std_times)\n",
    "    return results"
   ]
  },
  {
   "cell_type": "code",
   "execution_count": 44,
   "id": "f97131aa-5a51-4700-ae86-f422203c1374",
   "metadata": {},
   "outputs": [
    {
     "data": {
      "text/plain": [
       "['thread_scaling2_2.h5',\n",
       " 'thread_scaling2_16.h5',\n",
       " 'thread_scaling2_8.h5',\n",
       " 'thread_scaling2_1.h5',\n",
       " 'thread_scaling2_4.h5']"
      ]
     },
     "execution_count": 44,
     "metadata": {},
     "output_type": "execute_result"
    }
   ],
   "source": [
    "dir = \"../data\"\n",
    "data_files = os.listdir(dir)\n",
    "thread_files = [s for s in data_files if \"thread_scaling_\" in s and \"h5\" in s]\n",
    "thread_files\n",
    "h5_files = [h5py.File(dir + '/' + f) for f in thread_files]\n",
    "h5_filenames = [dir + '/' + f for f in thread_files]\n",
    "simd_thread_files = [s for s in data_files if \"thread_scaling2\" in s and \"h5\" in s]\n",
    "simd_h5_filenames = [dir + '/' + f for f in simd_thread_files]\n",
    "simd_thread_files"
   ]
  },
  {
   "cell_type": "code",
   "execution_count": 45,
   "id": "2d22dcf0-935a-4481-932e-94291b6be9a6",
   "metadata": {},
   "outputs": [
    {
     "data": {
      "text/plain": [
       "array([0.15865127, 0.09143712, 0.12479793, 0.23445457, 0.13904835])"
      ]
     },
     "execution_count": 45,
     "metadata": {},
     "output_type": "execute_result"
    }
   ],
   "source": [
    "results = analyze_case(h5_filenames)\n",
    "simd_results = analyze_case(simd_h5_filenames)\n",
    "results[\"average_times\"]\n",
    "simd_results[\"average_times\"]"
   ]
  },
  {
   "cell_type": "code",
   "execution_count": 48,
   "id": "c3263442-6c07-407b-a6a1-f23e28bf5c60",
   "metadata": {},
   "outputs": [
    {
     "data": {
      "text/plain": [
       "<matplotlib.legend.Legend at 0x11365c690>"
      ]
     },
     "execution_count": 48,
     "metadata": {},
     "output_type": "execute_result"
    },
    {
     "data": {
      "image/png": "[encoded data removed]",
      "text/plain": [
       "<Figure size 640x480 with 1 Axes>"
      ]
     },
     "metadata": {},
     "output_type": "display_data"
    }
   ],
   "source": [
    "fig, ax = plt.subplots()\n",
    "ax.set_xscale('log', base=2)\n",
    "#ax.set_yscale('log', base=10)\n",
    "ax.errorbar(np.array(range(len(h5_filenames))), results[\"average_times\"], yerr=results[\"std_times\"], \\\n",
    "            linestyle='', marker='.', label=\"No SIMD\")\n",
    "ax.set_xlabel(\"Number of threads\")\n",
    "ax.errorbar(np.array(range(len(simd_h5_filenames))), simd_results[\"average_times\"], yerr=simd_results[\"std_times\"], \\\n",
    "            linestyle='', marker='.', label=\"SIMD\")\n",
    "ax.set_xlabel(\"Number of threads\")\n",
    "ax.set_ylabel(\"Average wallclock time per step\")\n",
    "plt.legend()"
   ]
  },
  {
   "cell_type": "code",
   "execution_count": null,
   "id": "0e420d04-b0ca-4b8e-bbb8-95aaec2e1644",
   "metadata": {},
   "outputs": [],
   "source": []
  }
 ],
 "metadata": {
  "kernelspec": {
   "display_name": "Python 3 (ipykernel)",
   "language": "python",
   "name": "python3"
  },
  "language_info": {
   "codemirror_mode": {
    "name": "ipython",
    "version": 3
   },
   "file_extension": ".py",
   "mimetype": "text/x-python",
   "name": "python",
   "nbconvert_exporter": "python",
   "pygments_lexer": "ipython3",
   "version": "3.11.7"
  }
 },
 "nbformat": 4,
 "nbformat_minor": 5
}
